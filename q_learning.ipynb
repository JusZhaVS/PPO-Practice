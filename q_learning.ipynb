{
 "cells": [
  {
   "cell_type": "code",
   "execution_count": 10,
   "id": "9969506c",
   "metadata": {},
   "outputs": [],
   "source": [
    "import numpy as np\n",
    "import random\n",
    "from typing import Tuple, List"
   ]
  },
  {
   "cell_type": "code",
   "execution_count": 8,
   "id": "9272aa90",
   "metadata": {},
   "outputs": [],
   "source": [
    "GRID_SIZE = 3\n",
    "START = (0,0)\n",
    "GOAL = (2,2)\n",
    "OBSTACLE = (1,1)\n",
    "\n",
    "ACTIONS = [\n",
    "    (-1, 0), #up \n",
    "    (0,1), #right\n",
    "    (1,0),  #down\n",
    "    (0, -1) #left\n",
    "]"
   ]
  },
  {
   "cell_type": "code",
   "execution_count": 4,
   "id": "19510239",
   "metadata": {},
   "outputs": [],
   "source": [
    "def is_valid_state(state: Tuple[int, int]) -> bool:\n",
    "    return (0 <= state[0] < GRID_SIZE and \n",
    "            0 <= state[1] < GRID_SIZE and \n",
    "            state != OBSTACLE)"
   ]
  },
  {
   "cell_type": "code",
   "execution_count": 5,
   "id": "94e8d2e6",
   "metadata": {},
   "outputs": [],
   "source": [
    "def get_next_state(state: Tuple[int, int], action: Tuple[int, int]) -> Tuple[int, int]:\n",
    "    next_state = (state[0] + action[0], state[1] + action[1])\n",
    "    return next_state if is_valid_state(next_state) else state #return the new one if its valid, otherwise just return the old original one"
   ]
  },
  {
   "cell_type": "code",
   "execution_count": null,
   "id": "edf6cbd6",
   "metadata": {},
   "outputs": [],
   "source": [
    "EPSILON = 0.3 #30% exploration, 70% take best known action\n",
    "ALPHA = 0.3 #learning rate (how valuable new info is)\n",
    "GAMMA = 0.99\n",
    "EPISODES = 10000"
   ]
  },
  {
   "cell_type": "code",
   "execution_count": 6,
   "id": "4209af93",
   "metadata": {},
   "outputs": [],
   "source": [
    "def get_reward(state: Tuple[int, int], next_state: Tuple[int, int]) -> int:\n",
    "    if next_state == GOAL:\n",
    "        return 100\n",
    "    elif next_state == OBSTACLE or next_state == state: #this means you hit an obstacle or you hit a wall\n",
    "        return -10\n",
    "    else:\n",
    "        return -1 #penalize length of steps"
   ]
  },
  {
   "cell_type": "code",
   "execution_count": 11,
   "id": "8512e551",
   "metadata": {},
   "outputs": [],
   "source": [
    "def choose_action(state: Tuple[int, int], q_table: np.ndarray) -> Tuple[int, int]:\n",
    "    if random.uniform(0, 1) < EPSILON:\n",
    "        return random.choice(ACTIONS) #explore\n",
    "    else:\n",
    "        return ACTIONS[np.argmax(q_table[state])]"
   ]
  }
 ],
 "metadata": {
  "kernelspec": {
   "display_name": "Python 3",
   "language": "python",
   "name": "python3"
  },
  "language_info": {
   "codemirror_mode": {
    "name": "ipython",
    "version": 3
   },
   "file_extension": ".py",
   "mimetype": "text/x-python",
   "name": "python",
   "nbconvert_exporter": "python",
   "pygments_lexer": "ipython3",
   "version": "3.10.18"
  }
 },
 "nbformat": 4,
 "nbformat_minor": 5
}
