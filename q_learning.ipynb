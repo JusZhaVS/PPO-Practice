{
 "cells": [
  {
   "cell_type": "code",
   "execution_count": 1,
   "id": "9969506c",
   "metadata": {},
   "outputs": [],
   "source": [
    "import numpy as numpy\n",
    "import random\n",
    "from typing import Tuple, List"
   ]
  },
  {
   "cell_type": "code",
   "execution_count": 2,
   "id": "9272aa90",
   "metadata": {},
   "outputs": [],
   "source": [
    "GRID_SIZE = 3\n",
    "START = (0,0)\n",
    "GOAL = (2,2)\n",
    "OBSTACLE = (1,1)\n",
    "\n",
    "ACTIONS = [\n",
    "    (-1, 0), #up \n",
    "    (0,1), #right\n",
    "    (1,0),  #down\n",
    "    (0, -1) #left\n",
    "]"
   ]
  },
  {
   "cell_type": "code",
   "execution_count": null,
   "id": "94e8d2e6",
   "metadata": {},
   "outputs": [],
   "source": []
  }
 ],
 "metadata": {
  "kernelspec": {
   "display_name": "Python 3",
   "language": "python",
   "name": "python3"
  },
  "language_info": {
   "codemirror_mode": {
    "name": "ipython",
    "version": 3
   },
   "file_extension": ".py",
   "mimetype": "text/x-python",
   "name": "python",
   "nbconvert_exporter": "python",
   "pygments_lexer": "ipython3",
   "version": "3.10.18"
  }
 },
 "nbformat": 4,
 "nbformat_minor": 5
}
